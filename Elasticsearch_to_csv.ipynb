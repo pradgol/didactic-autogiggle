{
 "cells": [
  {
   "cell_type": "code",
   "execution_count": null,
   "metadata": {
    "collapsed": true
   },
   "outputs": [],
   "source": [
    "import elasticsearch\n",
    "import csv\n",
    "import random\n",
    "import unicodedata\n",
    "import pandas as pd\n",
    "import elasticsearch.helpers\n",
    "import glob\n",
    "import dill as pickle\n",
    "import dask as da\n",
    "import dask.dataframe as dd"
   ]
  },
  {
   "cell_type": "code",
   "execution_count": null,
   "metadata": {
    "collapsed": true
   },
   "outputs": [],
   "source": [
    "es = elasticsearch.Elasticsearch([\"localhost:9201\"])\n",
    "page = es.search(index = \"twittertool2\")\n",
    "scroll_size = page['hits']['total']"
   ]
  },
  {
   "cell_type": "code",
   "execution_count": null,
   "metadata": {
    "collapsed": true
   },
   "outputs": [],
   "source": [
    "results_gen = elasticsearch.helpers.scan(es,index='twittertool2')"
   ]
  },
  {
   "cell_type": "code",
   "execution_count": null,
   "metadata": {
    "collapsed": true
   },
   "outputs": [],
   "source": [
    "i=0;j=1000000; k = 0"
   ]
  },
  {
   "cell_type": "code",
   "execution_count": null,
   "metadata": {
    "collapsed": true
   },
   "outputs": [],
   "source": [
    "a = pd.DataFrame()\n",
    "df = []\n",
    "while (j<scroll_size):\n",
    "    while (i<j):\n",
    "            hit = next(results_gen)\n",
    "            k = k+1\n",
    "            try:\n",
    "                col1 = hit['_id']\n",
    "            except Exception:\n",
    "                col1 = \"\"\n",
    "\n",
    "            try:\n",
    "                tweet = hit[\"_source\"][\"text\"]\n",
    "                tweet = tweet.replace('\\n', ' ')\n",
    "            except Exception:\n",
    "                tweet = \"\"\n",
    "\n",
    "            try:\n",
    "                col3 = hit[\"_source\"][\"created_at\"]\n",
    "                col3 = col3.replace('\\n', ' ')\n",
    "            except Exception:\n",
    "                col3 = \"\"\n",
    "\n",
    "            try:\n",
    "                col4 = hit[\"_source\"][\"language\"]\n",
    "                col4 = col4.replace('\\n', ' ')\n",
    "            except Exception:\n",
    "                col4 = \"\"\n",
    "\n",
    "            try:\n",
    "                col5 = hit[\"_source\"][\"user\"][\"screen_name\"]\n",
    "                col5 = col5.replace('\\n', ' ')\n",
    "            except Exception:\n",
    "                col5 = \"\"\n",
    "\n",
    "            try:\n",
    "                col6 = hit[\"_source\"][\"user\"][\"location\"]\n",
    "                col6 = col6.replace('\\n', ' ')\n",
    "            except Exception:\n",
    "                col6 = \"\"\n",
    "\n",
    "            try:\n",
    "                col7 = hit[\"_source\"][\"user\"][\"description\"]\n",
    "                col7 = col7.replace('\\n', ' ')\n",
    "            except Exception:\n",
    "                col7 = \"\"\n",
    "            try:\n",
    "                col8 = hit['_source']['retweet']['retweet_count']\n",
    "            except Exception:\n",
    "                col8 = \"\"\n",
    "            try:\n",
    "                col9 = hit['_source']['retweet']['user_screen_name']\n",
    "            except Exception:\n",
    "                col9 = \"\"\n",
    "            try:\n",
    "                col10 = hit['_source']['hashtag']\n",
    "            except Exception:\n",
    "                col10 = \"\"\n",
    "            try:\n",
    "                col11 = hit['_source']['mention']\n",
    "            except Exception:\n",
    "                col11 = \"\"\n",
    "            try:\n",
    "                col12 = hit['_source']['source']\n",
    "            except Exception:\n",
    "                col12 = \"\"\n",
    "\n",
    "            a = [col1,tweet,col3,col4,col5,col6,col7,col8,col9,col10,col11,col12]\n",
    "            if col4 == 'en':\n",
    "                df.append(a)\n",
    "                i = i+1\n",
    "    df1 = pd.DataFrame(df)\n",
    "    df1.columns = ['id','tweet','created_at','language','screen_name','location','description','retweet_count','mention_screen_name','hashtags','mentions','tweetsource']\n",
    "    df1.to_csv(f'/data/esdata2/esfile_27Dec_2.csv', index = False, header = None, mode = 'a')\n",
    "    j= j+1000000\n",
    "    df = []\n",
    "                                                            "
   ]
  },
  {
   "cell_type": "code",
   "execution_count": null,
   "metadata": {
    "collapsed": true
   },
   "outputs": [],
   "source": [
    "print(i), print(j), print(k)"
   ]
  }
 ],
 "metadata": {
  "kernelspec": {
   "display_name": "Python 3",
   "language": "python",
   "name": "python3"
  },
  "language_info": {
   "codemirror_mode": {
    "name": "ipython",
    "version": 3
   },
   "file_extension": ".py",
   "mimetype": "text/x-python",
   "name": "python",
   "nbconvert_exporter": "python",
   "pygments_lexer": "ipython3",
   "version": "3.6.3"
  }
 },
 "nbformat": 4,
 "nbformat_minor": 2
}
